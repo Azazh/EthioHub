{
 "cells": [
  {
   "cell_type": "markdown",
   "metadata": {},
   "source": [
    "### Import necessary libraries"
   ]
  },
  {
   "cell_type": "code",
   "execution_count": 1,
   "metadata": {},
   "outputs": [],
   "source": [
    "import pandas as pd\n",
    "import re\n"
   ]
  },
  {
   "cell_type": "markdown",
   "metadata": {},
   "source": [
    "### Load preprocessed data\n"
   ]
  },
  {
   "cell_type": "code",
   "execution_count": 2,
   "metadata": {},
   "outputs": [],
   "source": [
    "data_path = \"../data/preprocessed_telegram_data.csv\"\n",
    "df = pd.read_csv(data_path)"
   ]
  },
  {
   "cell_type": "markdown",
   "metadata": {},
   "source": [
    "### Function to manually label tokens for NER\n"
   ]
  },
  {
   "cell_type": "markdown",
   "metadata": {},
   "source": [
    "# Function to manually label tokens for NER\n",
    "def label_amharic_text_conll(df, entity_dict):\n",
    "    labeled_data = []\n",
    "    \n",
    "    for index, row in df.iterrows():\n",
    "        message = row['cleaned_text']\n",
    "        tokens = row['tokens']\n",
    "        sentence_labels = []\n",
    "\n",
    "        # For simplicity, we're labeling based on dictionary lookups for demos\n",
    "        for token in tokens:\n",
    "            if token in entity_dict['Product']:\n",
    "                label = 'B-Product'\n",
    "            elif token in entity_dict['Location']:\n",
    "                label = 'B-LOC'\n",
    "            elif token in entity_dict['Price']:\n",
    "                label = 'B-PRICE'\n",
    "            else:\n",
    "                label = 'O'\n",
    "            sentence_labels.append(f\"{token} {label}\")\n",
    "        \n",
    "        labeled_data.append('\\n'.join(sentence_labels))\n",
    "    \n",
    "    return labeled_data"
   ]
  },
  {
   "cell_type": "code",
   "execution_count": null,
   "metadata": {},
   "outputs": [],
   "source": []
  }
 ],
 "metadata": {
  "kernelspec": {
   "display_name": "venv",
   "language": "python",
   "name": "python3"
  },
  "language_info": {
   "codemirror_mode": {
    "name": "ipython",
    "version": 3
   },
   "file_extension": ".py",
   "mimetype": "text/x-python",
   "name": "python",
   "nbconvert_exporter": "python",
   "pygments_lexer": "ipython3",
   "version": "3.10.12"
  }
 },
 "nbformat": 4,
 "nbformat_minor": 2
}
