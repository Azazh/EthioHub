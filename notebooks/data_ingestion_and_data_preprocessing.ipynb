{
 "cells": [
  {
   "cell_type": "markdown",
   "metadata": {},
   "source": [
    "### Import necessary libraries\n"
   ]
  },
  {
   "cell_type": "code",
   "execution_count": 1,
   "metadata": {},
   "outputs": [
    {
     "name": "stderr",
     "output_type": "stream",
     "text": [
      "/home/azazh/Documents/10-acadamy/w-5/telegram_commerce_intelligence/venv/lib/python3.10/site-packages/tqdm/auto.py:21: TqdmWarning: IProgress not found. Please update jupyter and ipywidgets. See https://ipywidgets.readthedocs.io/en/stable/user_install.html\n",
      "  from .autonotebook import tqdm as notebook_tqdm\n",
      "None of PyTorch, TensorFlow >= 2.0, or Flax have been found. Models won't be available and only tokenizers, configuration and file/data utilities can be used.\n"
     ]
    }
   ],
   "source": [
    "import pandas as pd\n",
    "import re\n",
    "from transformers import AutoTokenizer\n",
    "import os"
   ]
  },
  {
   "cell_type": "markdown",
   "metadata": {},
   "source": [
    "### Load the data\n"
   ]
  },
  {
   "cell_type": "code",
   "execution_count": 2,
   "metadata": {},
   "outputs": [
    {
     "data": {
      "text/html": [
       "<div>\n",
       "<style scoped>\n",
       "    .dataframe tbody tr th:only-of-type {\n",
       "        vertical-align: middle;\n",
       "    }\n",
       "\n",
       "    .dataframe tbody tr th {\n",
       "        vertical-align: top;\n",
       "    }\n",
       "\n",
       "    .dataframe thead th {\n",
       "        text-align: right;\n",
       "    }\n",
       "</style>\n",
       "<table border=\"1\" class=\"dataframe\">\n",
       "  <thead>\n",
       "    <tr style=\"text-align: right;\">\n",
       "      <th></th>\n",
       "      <th>Channel Title</th>\n",
       "      <th>Channel Username</th>\n",
       "      <th>ID</th>\n",
       "      <th>Message</th>\n",
       "      <th>Date</th>\n",
       "      <th>Media Path</th>\n",
       "    </tr>\n",
       "  </thead>\n",
       "  <tbody>\n",
       "    <tr>\n",
       "      <th>0</th>\n",
       "      <td>ሀይሚ ቦንዳ/Haymi Bonda</td>\n",
       "      <td>Yebonda_libsoch</td>\n",
       "      <td>4192</td>\n",
       "      <td>የፊታችን አርብ ጥር 9 ከምንፈታቸው የጂም ታይት መካከል ለሳምፕል</td>\n",
       "      <td>2025-01-14 19:21:55+00:00</td>\n",
       "      <td>NaN</td>\n",
       "    </tr>\n",
       "    <tr>\n",
       "      <th>1</th>\n",
       "      <td>ሀይሚ ቦንዳ/Haymi Bonda</td>\n",
       "      <td>Yebonda_libsoch</td>\n",
       "      <td>4190</td>\n",
       "      <td>የፊታችን አርብ ጥር 9 ከምንፈታቸው የበጋ ክር ሹራብ መካከል ለሳምፕል</td>\n",
       "      <td>2025-01-14 19:15:26+00:00</td>\n",
       "      <td>NaN</td>\n",
       "    </tr>\n",
       "    <tr>\n",
       "      <th>2</th>\n",
       "      <td>ሀይሚ ቦንዳ/Haymi Bonda</td>\n",
       "      <td>Yebonda_libsoch</td>\n",
       "      <td>4189</td>\n",
       "      <td>የፊታችን 🔥ዓርብ🔥 ጥር 9 👌\\n\\nውድ የሀይሚ ቦንዳ ቤተሰቦች የዛሬ ሳም...</td>\n",
       "      <td>2025-01-13 14:36:42+00:00</td>\n",
       "      <td>NaN</td>\n",
       "    </tr>\n",
       "    <tr>\n",
       "      <th>3</th>\n",
       "      <td>ሀይሚ ቦንዳ/Haymi Bonda</td>\n",
       "      <td>Yebonda_libsoch</td>\n",
       "      <td>4188</td>\n",
       "      <td>💪ውድ የሀይሚ ቦንዳ ቤተሰቦች የቲክቶክ አድራሻችን ላይ ለሳምፕል ብዙ ቩድ...</td>\n",
       "      <td>2025-01-10 11:26:52+00:00</td>\n",
       "      <td>NaN</td>\n",
       "    </tr>\n",
       "    <tr>\n",
       "      <th>4</th>\n",
       "      <td>ሀይሚ ቦንዳ/Haymi Bonda</td>\n",
       "      <td>Yebonda_libsoch</td>\n",
       "      <td>4187</td>\n",
       "      <td>NaN</td>\n",
       "      <td>2025-01-08 18:06:52+00:00</td>\n",
       "      <td>NaN</td>\n",
       "    </tr>\n",
       "  </tbody>\n",
       "</table>\n",
       "</div>"
      ],
      "text/plain": [
       "         Channel Title Channel Username    ID  \\\n",
       "0  ሀይሚ ቦንዳ/Haymi Bonda  Yebonda_libsoch  4192   \n",
       "1  ሀይሚ ቦንዳ/Haymi Bonda  Yebonda_libsoch  4190   \n",
       "2  ሀይሚ ቦንዳ/Haymi Bonda  Yebonda_libsoch  4189   \n",
       "3  ሀይሚ ቦንዳ/Haymi Bonda  Yebonda_libsoch  4188   \n",
       "4  ሀይሚ ቦንዳ/Haymi Bonda  Yebonda_libsoch  4187   \n",
       "\n",
       "                                             Message  \\\n",
       "0          የፊታችን አርብ ጥር 9 ከምንፈታቸው የጂም ታይት መካከል ለሳምፕል   \n",
       "1       የፊታችን አርብ ጥር 9 ከምንፈታቸው የበጋ ክር ሹራብ መካከል ለሳምፕል   \n",
       "2  የፊታችን 🔥ዓርብ🔥 ጥር 9 👌\\n\\nውድ የሀይሚ ቦንዳ ቤተሰቦች የዛሬ ሳም...   \n",
       "3  💪ውድ የሀይሚ ቦንዳ ቤተሰቦች የቲክቶክ አድራሻችን ላይ ለሳምፕል ብዙ ቩድ...   \n",
       "4                                                NaN   \n",
       "\n",
       "                        Date Media Path  \n",
       "0  2025-01-14 19:21:55+00:00        NaN  \n",
       "1  2025-01-14 19:15:26+00:00        NaN  \n",
       "2  2025-01-13 14:36:42+00:00        NaN  \n",
       "3  2025-01-10 11:26:52+00:00        NaN  \n",
       "4  2025-01-08 18:06:52+00:00        NaN  "
      ]
     },
     "execution_count": 2,
     "metadata": {},
     "output_type": "execute_result"
    }
   ],
   "source": [
    "# Load the data\n",
    "data_path = '../data/telegram_data.csv'\n",
    "df = pd.read_csv(data_path)\n",
    "\n",
    "# Display the first few rows\n",
    "df.head()"
   ]
  },
  {
   "cell_type": "code",
   "execution_count": 3,
   "metadata": {},
   "outputs": [],
   "source": [
    "# Initialize the pre-trained tokenizer (multilingual, supports Amharic)\n",
    "tokenizer = AutoTokenizer.from_pretrained(\"xlm-roberta-base\")"
   ]
  },
  {
   "cell_type": "code",
   "execution_count": 4,
   "metadata": {},
   "outputs": [],
   "source": [
    "# Tokenization function for Amharic text\n",
    "def tokenize_amharic(text):\n",
    "    return tokenizer.tokenize(text)"
   ]
  },
  {
   "cell_type": "code",
   "execution_count": 5,
   "metadata": {},
   "outputs": [],
   "source": [
    "def clean_amharic_text(text):\n",
    "    if not isinstance(text, str):\n",
    "        text = ''  # Convert non-string values (e.g., NaN, float) to empty string\n",
    "    # Replace unwanted characters, normalize spaces, etc.\n",
    "    text = re.sub(r'[^\\\\w\\\\s]', '', text)  # Removing special characters\n",
    "    text = re.sub(r'\\\\s+', ' ', text).strip()  # Normalize whitespace\n",
    "    return text"
   ]
  },
  {
   "cell_type": "markdown",
   "metadata": {},
   "source": [
    "###  Preprocess Amharic text"
   ]
  },
  {
   "cell_type": "code",
   "execution_count": 6,
   "metadata": {},
   "outputs": [],
   "source": [
    "def preprocess_data(df):\n",
    "    df['Message'] = df['Message'].fillna('')  ## Handle NaN values\n",
    "    df['cleaned_text'] = df['Message'].apply(clean_amharic_text)\n",
    "    df['tokens'] = df['cleaned_text'].apply(tokenize_amharic)\n",
    "    return df\n"
   ]
  },
  {
   "cell_type": "markdown",
   "metadata": {},
   "source": [
    "### Run the preprocessing\n"
   ]
  },
  {
   "cell_type": "code",
   "execution_count": 7,
   "metadata": {},
   "outputs": [
    {
     "data": {
      "text/html": [
       "<div>\n",
       "<style scoped>\n",
       "    .dataframe tbody tr th:only-of-type {\n",
       "        vertical-align: middle;\n",
       "    }\n",
       "\n",
       "    .dataframe tbody tr th {\n",
       "        vertical-align: top;\n",
       "    }\n",
       "\n",
       "    .dataframe thead th {\n",
       "        text-align: right;\n",
       "    }\n",
       "</style>\n",
       "<table border=\"1\" class=\"dataframe\">\n",
       "  <thead>\n",
       "    <tr style=\"text-align: right;\">\n",
       "      <th></th>\n",
       "      <th>Channel Title</th>\n",
       "      <th>Channel Username</th>\n",
       "      <th>ID</th>\n",
       "      <th>Message</th>\n",
       "      <th>Date</th>\n",
       "      <th>Media Path</th>\n",
       "      <th>cleaned_text</th>\n",
       "      <th>tokens</th>\n",
       "    </tr>\n",
       "  </thead>\n",
       "  <tbody>\n",
       "    <tr>\n",
       "      <th>0</th>\n",
       "      <td>ሀይሚ ቦንዳ/Haymi Bonda</td>\n",
       "      <td>Yebonda_libsoch</td>\n",
       "      <td>4192</td>\n",
       "      <td>የፊታችን አርብ ጥር 9 ከምንፈታቸው የጂም ታይት መካከል ለሳምፕል</td>\n",
       "      <td>2025-01-14 19:21:55+00:00</td>\n",
       "      <td>NaN</td>\n",
       "      <td></td>\n",
       "      <td>[]</td>\n",
       "    </tr>\n",
       "    <tr>\n",
       "      <th>1</th>\n",
       "      <td>ሀይሚ ቦንዳ/Haymi Bonda</td>\n",
       "      <td>Yebonda_libsoch</td>\n",
       "      <td>4190</td>\n",
       "      <td>የፊታችን አርብ ጥር 9 ከምንፈታቸው የበጋ ክር ሹራብ መካከል ለሳምፕል</td>\n",
       "      <td>2025-01-14 19:15:26+00:00</td>\n",
       "      <td>NaN</td>\n",
       "      <td></td>\n",
       "      <td>[]</td>\n",
       "    </tr>\n",
       "    <tr>\n",
       "      <th>2</th>\n",
       "      <td>ሀይሚ ቦንዳ/Haymi Bonda</td>\n",
       "      <td>Yebonda_libsoch</td>\n",
       "      <td>4189</td>\n",
       "      <td>የፊታችን 🔥ዓርብ🔥 ጥር 9 👌\\n\\nውድ የሀይሚ ቦንዳ ቤተሰቦች የዛሬ ሳም...</td>\n",
       "      <td>2025-01-13 14:36:42+00:00</td>\n",
       "      <td>NaN</td>\n",
       "      <td></td>\n",
       "      <td>[]</td>\n",
       "    </tr>\n",
       "    <tr>\n",
       "      <th>3</th>\n",
       "      <td>ሀይሚ ቦንዳ/Haymi Bonda</td>\n",
       "      <td>Yebonda_libsoch</td>\n",
       "      <td>4188</td>\n",
       "      <td>💪ውድ የሀይሚ ቦንዳ ቤተሰቦች የቲክቶክ አድራሻችን ላይ ለሳምፕል ብዙ ቩድ...</td>\n",
       "      <td>2025-01-10 11:26:52+00:00</td>\n",
       "      <td>NaN</td>\n",
       "      <td>swwwsws</td>\n",
       "      <td>[▁s, www, s, ws]</td>\n",
       "    </tr>\n",
       "    <tr>\n",
       "      <th>4</th>\n",
       "      <td>ሀይሚ ቦንዳ/Haymi Bonda</td>\n",
       "      <td>Yebonda_libsoch</td>\n",
       "      <td>4187</td>\n",
       "      <td></td>\n",
       "      <td>2025-01-08 18:06:52+00:00</td>\n",
       "      <td>NaN</td>\n",
       "      <td></td>\n",
       "      <td>[]</td>\n",
       "    </tr>\n",
       "  </tbody>\n",
       "</table>\n",
       "</div>"
      ],
      "text/plain": [
       "         Channel Title Channel Username    ID  \\\n",
       "0  ሀይሚ ቦንዳ/Haymi Bonda  Yebonda_libsoch  4192   \n",
       "1  ሀይሚ ቦንዳ/Haymi Bonda  Yebonda_libsoch  4190   \n",
       "2  ሀይሚ ቦንዳ/Haymi Bonda  Yebonda_libsoch  4189   \n",
       "3  ሀይሚ ቦንዳ/Haymi Bonda  Yebonda_libsoch  4188   \n",
       "4  ሀይሚ ቦንዳ/Haymi Bonda  Yebonda_libsoch  4187   \n",
       "\n",
       "                                             Message  \\\n",
       "0          የፊታችን አርብ ጥር 9 ከምንፈታቸው የጂም ታይት መካከል ለሳምፕል   \n",
       "1       የፊታችን አርብ ጥር 9 ከምንፈታቸው የበጋ ክር ሹራብ መካከል ለሳምፕል   \n",
       "2  የፊታችን 🔥ዓርብ🔥 ጥር 9 👌\\n\\nውድ የሀይሚ ቦንዳ ቤተሰቦች የዛሬ ሳም...   \n",
       "3  💪ውድ የሀይሚ ቦንዳ ቤተሰቦች የቲክቶክ አድራሻችን ላይ ለሳምፕል ብዙ ቩድ...   \n",
       "4                                                      \n",
       "\n",
       "                        Date Media Path cleaned_text            tokens  \n",
       "0  2025-01-14 19:21:55+00:00        NaN                             []  \n",
       "1  2025-01-14 19:15:26+00:00        NaN                             []  \n",
       "2  2025-01-13 14:36:42+00:00        NaN                             []  \n",
       "3  2025-01-10 11:26:52+00:00        NaN      swwwsws  [▁s, www, s, ws]  \n",
       "4  2025-01-08 18:06:52+00:00        NaN                             []  "
      ]
     },
     "execution_count": 7,
     "metadata": {},
     "output_type": "execute_result"
    }
   ],
   "source": [
    "df_preprocessed = preprocess_data(df)\n",
    "df_preprocessed.head()"
   ]
  },
  {
   "cell_type": "markdown",
   "metadata": {},
   "source": [
    "### Save the preprocessed data for later tasks"
   ]
  },
  {
   "cell_type": "code",
   "execution_count": 8,
   "metadata": {},
   "outputs": [
    {
     "name": "stdout",
     "output_type": "stream",
     "text": [
      "Preprocessing complete. Data saved to ../data/preprocessed_telegram_data.csv\n"
     ]
    }
   ],
   "source": [
    "# Save the preprocessed data for later tasks\n",
    "output_path = '../data/preprocessed_telegram_data.csv'\n",
    "df_preprocessed.to_csv(output_path, index=False)\n",
    "\n",
    "print(\"Preprocessing complete. Data saved to\", output_path)"
   ]
  }
 ],
 "metadata": {
  "kernelspec": {
   "display_name": "venv",
   "language": "python",
   "name": "python3"
  },
  "language_info": {
   "codemirror_mode": {
    "name": "ipython",
    "version": 3
   },
   "file_extension": ".py",
   "mimetype": "text/x-python",
   "name": "python",
   "nbconvert_exporter": "python",
   "pygments_lexer": "ipython3",
   "version": "3.10.12"
  }
 },
 "nbformat": 4,
 "nbformat_minor": 2
}
